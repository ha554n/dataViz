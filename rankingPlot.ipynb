{
 "cells": [
  {
   "cell_type": "code",
   "execution_count": 2,
   "metadata": {},
   "outputs": [],
   "source": [
    "import pandas as pd\n",
    "import numpy as np\n",
    "import seaborn as sns\n",
    "import matplotlib.pyplot as plt"
   ]
  },
  {
   "cell_type": "code",
   "execution_count": 15,
   "metadata": {},
   "outputs": [],
   "source": [
    "imgid=['img'+str(i) for i in range(1,41)] # 40 images\n",
    "imgType=['Type1']*10+['Type2']*10+['Type3']*10+['Type4']*10 # 4 types of images\n",
    "group=['Group1']*40+['Group2']*40+['Group3']*40 # 3 groups of raters"
   ]
  },
  {
   "cell_type": "code",
   "execution_count": 16,
   "metadata": {},
   "outputs": [],
   "source": [
    "#create 3 separate shuffles of rankings into one list\n",
    "rankings1=np.arange(1,41)\n",
    "rankings2=np.arange(1,41)\n",
    "rankings3=np.arange(1,41)\n",
    "#shuffle\n",
    "rankings1[10:]=np.random.permutation(rankings1[10:])\n",
    "rankings2[20:]=np.random.permutation(rankings2[20:])\n",
    "rankings3=np.random.permutation(rankings3)\n",
    "#combine\n",
    "rankings=np.concatenate((rankings1,rankings2,rankings3),axis=0)"
   ]
  },
  {
   "cell_type": "code",
   "execution_count": 17,
   "metadata": {},
   "outputs": [],
   "source": [
    "#combine into one dataframe\n",
    "df=pd.DataFrame({'group':group,\n",
    "              'imgType':np.tile(imgType,3),\n",
    "              'imgid':np.tile(imgid,3),\n",
    "              'rankings': rankings})"
   ]
  },
  {
   "cell_type": "code",
   "execution_count": 20,
   "metadata": {},
   "outputs": [
    {
     "data": {
      "image/png": "[encoded data removed]",
      "text/plain": [
       "<Figure size 1080x216 with 3 Axes>"
      ]
     },
     "metadata": {
      "needs_background": "light"
     },
     "output_type": "display_data"
    }
   ],
   "source": [
    "groups = ['Group1', 'Group2', 'Group3'] \n",
    "fig, axes = plt.subplots(3, 1, figsize=(15, 3), sharey=True) #sharey=True means all subplots share the same y-axis\n",
    "fig.subplots_adjust(hspace=1.5) #add padding between subplots\n",
    "\n",
    "for i, group in enumerate(groups): \n",
    "    ax = axes[i] #select subplot\n",
    "    data = df[df['group'] == group] #select data for group\n",
    "    sns.countplot(x='rankings', data=data, hue='imgType', palette='Set2', saturation=1, dodge=False, ax=ax) #plot\n",
    "    ax.axis('off')#remove axes\n",
    "    ax.legend_.remove() #remove legend for all subplots\n",
    "    ax.vlines(x=[9.5, 19.5, 29.5], ymin=-0.05, ymax=1.05, color='black', linewidth=5) #add markers\n",
    "    #labels of ranks\n",
    "    ax.annotate('10', xy=(9, 1.1), xytext=(9, 1.1), fontsize=15)\n",
    "    ax.annotate('20', xy=(19, 1.1), xytext=(19, 1.1), fontsize=15)\n",
    "    ax.annotate('30', xy=(29, 1.1), xytext=(29, 1.1), fontsize=15)\n",
    "    #title\n",
    "    ax.text(-0.05, 0.5, f'Group {i+1}', transform=ax.transAxes, rotation=0, va='center', fontsize=12)  #added as text to give more control over position, transform=ax.transAxes means coordinates are relative to axes, not data\n",
    "\n",
    "\n",
    "axes[2].legend(loc='lower right', bbox_to_anchor=(1.1, 1)) #add one legend\n",
    "\n",
    "plt.show()"
   ]
  }
 ],
 "metadata": {
  "kernelspec": {
   "display_name": "base",
   "language": "python",
   "name": "python3"
  },
  "language_info": {
   "codemirror_mode": {
    "name": "ipython",
    "version": 3
   },
   "file_extension": ".py",
   "mimetype": "text/x-python",
   "name": "python",
   "nbconvert_exporter": "python",
   "pygments_lexer": "ipython3",
   "version": "3.8.8"
  },
  "orig_nbformat": 4
 },
 "nbformat": 4,
 "nbformat_minor": 2
}
